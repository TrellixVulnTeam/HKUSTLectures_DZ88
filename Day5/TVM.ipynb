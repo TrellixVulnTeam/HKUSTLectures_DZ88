{
 "cells": [
  {
   "cell_type": "markdown",
   "metadata": {},
   "source": [
    "# Install pre-req\n",
    "```\n",
    "conda install -c abergeron nnvm \n",
    "conda install -c abergeron tvm \n",
    "```"
   ]
  },
  {
   "cell_type": "code",
   "execution_count": null,
   "metadata": {},
   "outputs": [],
   "source": [
    "%matplotlib inline"
   ]
  },
  {
   "cell_type": "markdown",
   "metadata": {},
   "source": [
    "\n",
    "\n",
    "Compile MXNet Models\n",
    "====================\n",
    "**Author**: `Joshua Z. Zhang <https://zhreshold.github.io/>`_\n",
    "\n",
    "This article is an introductory tutorial to deploy mxnet models with NNVM.\n",
    "\n",
    "For us to begin with, mxnet module is required to be installed.\n",
    "\n",
    "A quick solution is\n",
    "\n",
    ".. code-block:: bash\n",
    "\n",
    "    pip install mxnet --user\n",
    "\n",
    "or please refer to offical installation guide.\n",
    "https://mxnet.incubator.apache.org/versions/master/install/index.html\n",
    "\n"
   ]
  },
  {
   "cell_type": "code",
   "execution_count": 3,
   "metadata": {},
   "outputs": [],
   "source": [
    "# some standard imports\n",
    "import mxnet as mx\n",
    "import nnvm\n",
    "import tvm\n",
    "import numpy as np"
   ]
  },
  {
   "cell_type": "markdown",
   "metadata": {},
   "source": [
    "Download Resnet18 model from Gluon Model Zoo\n",
    "---------------------------------------------\n",
    "In this section, we download a pretrained imagenet model and classify an image.\n",
    "\n"
   ]
  },
  {
   "cell_type": "code",
   "execution_count": 4,
   "metadata": {},
   "outputs": [
    {
     "name": "stdout",
     "output_type": "stream",
     "text": [
      "Downloading /Users/cyrusmv/.mxnet/models/resnet18_v1-a0666292.zip from https://apache-mxnet.s3-accelerate.dualstack.amazonaws.com/gluon/models/resnet18_v1-a0666292.zip...\n",
      "Downloading cat.png from https://github.com/dmlc/mxnet.js/blob/master/data/cat.png?raw=true...\n",
      "Downloading synset.txt from https://gist.githubusercontent.com/zhreshold/4d0b62f3d01426887599d4f7ede23ee5/raw/596b27d23537e5a1b5751d2b0481ef172f58b539/imagenet1000_clsid_to_human.txt...\n"
     ]
    },
    {
     "data": {
      "text/plain": [
       "<Figure size 640x480 with 1 Axes>"
      ]
     },
     "metadata": {},
     "output_type": "display_data"
    },
    {
     "name": "stdout",
     "output_type": "stream",
     "text": [
      "x (1, 3, 224, 224)\n"
     ]
    }
   ],
   "source": [
    "from mxnet.gluon.model_zoo.vision import get_model\n",
    "from mxnet.gluon.utils import download\n",
    "from PIL import Image\n",
    "from matplotlib import pyplot as plt\n",
    "block = get_model('resnet18_v1', pretrained=True)\n",
    "img_name = 'cat.png'\n",
    "synset_url = ''.join(['https://gist.githubusercontent.com/zhreshold/',\n",
    "                      '4d0b62f3d01426887599d4f7ede23ee5/raw/',\n",
    "                      '596b27d23537e5a1b5751d2b0481ef172f58b539/',\n",
    "                      'imagenet1000_clsid_to_human.txt'])\n",
    "synset_name = 'synset.txt'\n",
    "download('https://github.com/dmlc/mxnet.js/blob/master/data/cat.png?raw=true', img_name)\n",
    "download(synset_url, synset_name)\n",
    "with open(synset_name) as f:\n",
    "    synset = eval(f.read())\n",
    "image = Image.open(img_name).resize((224, 224))\n",
    "plt.imshow(image)\n",
    "plt.show()\n",
    "\n",
    "def transform_image(image):\n",
    "    image = np.array(image) - np.array([123., 117., 104.])\n",
    "    image /= np.array([58.395, 57.12, 57.375])\n",
    "    image = image.transpose((2, 0, 1))\n",
    "    image = image[np.newaxis, :]\n",
    "    return image\n",
    "\n",
    "x = transform_image(image)\n",
    "print('x', x.shape)"
   ]
  },
  {
   "cell_type": "markdown",
   "metadata": {},
   "source": [
    "Compile the Graph\n",
    "-----------------\n",
    "Now we would like to port the Gluon model to a portable computational graph.\n",
    "It's as easy as several lines.\n",
    "We support MXNet static graph(symbol) and HybridBlock in mxnet.gluon\n",
    "\n"
   ]
  },
  {
   "cell_type": "code",
   "execution_count": 5,
   "metadata": {},
   "outputs": [],
   "source": [
    "sym, params = nnvm.frontend.from_mxnet(block)\n",
    "# we want a probability so add a softmax operator\n",
    "sym = nnvm.sym.softmax(sym)"
   ]
  },
  {
   "cell_type": "markdown",
   "metadata": {},
   "source": [
    "now compile the graph\n",
    "\n"
   ]
  },
  {
   "cell_type": "code",
   "execution_count": null,
   "metadata": {},
   "outputs": [
    {
     "name": "stdout",
     "output_type": "stream",
     "text": [
      "...100%, 0.30 MB, 342 KB/s, 0 seconds passed\n"
     ]
    }
   ],
   "source": [
    "import nnvm.compiler\n",
    "target = 'cuda'\n",
    "shape_dict = {'data': x.shape}\n",
    "with nnvm.compiler.build_config(opt_level=3):\n",
    "    graph, lib, params = nnvm.compiler.build(sym, target, shape_dict, params=params)"
   ]
  },
  {
   "cell_type": "markdown",
   "metadata": {},
   "source": [
    "Execute the portable graph on TVM\n",
    "---------------------------------\n",
    "Now, we would like to reproduce the same forward computation using TVM.\n",
    "\n"
   ]
  },
  {
   "cell_type": "code",
   "execution_count": null,
   "metadata": {},
   "outputs": [],
   "source": [
    "from tvm.contrib import graph_runtime\n",
    "ctx = tvm.gpu(0)\n",
    "dtype = 'float32'\n",
    "m = graph_runtime.create(graph, lib, ctx)\n",
    "# set inputs\n",
    "m.set_input('data', tvm.nd.array(x.astype(dtype)))\n",
    "m.set_input(**params)\n",
    "# execute\n",
    "m.run()\n",
    "# get outputs\n",
    "tvm_output = m.get_output(0)\n",
    "top1 = np.argmax(tvm_output.asnumpy()[0])\n",
    "print('TVM prediction top-1:', top1, synset[top1])"
   ]
  },
  {
   "cell_type": "markdown",
   "metadata": {},
   "source": [
    "Use MXNet symbol with pretrained weights\n",
    "----------------------------------------\n",
    "MXNet often use `arg_params` and `aux_params` to store network parameters\n",
    "separately, here we show how to use these weights with existing API\n",
    "\n"
   ]
  },
  {
   "cell_type": "code",
   "execution_count": null,
   "metadata": {},
   "outputs": [],
   "source": [
    "def block2symbol(block):\n",
    "    data = mx.sym.Variable('data')\n",
    "    sym = block(data)\n",
    "    args = {}\n",
    "    auxs = {}\n",
    "    for k, v in block.collect_params().items():\n",
    "        args[k] = mx.nd.array(v.data().asnumpy())\n",
    "    return sym, args, auxs\n",
    "mx_sym, args, auxs = block2symbol(block)\n",
    "# usually we would save/load it as checkpoint\n",
    "mx.model.save_checkpoint('resnet18_v1', 0, mx_sym, args, auxs)\n",
    "# there are 'resnet18_v1-0000.params' and 'resnet18_v1-symbol.json' on disk"
   ]
  },
  {
   "cell_type": "markdown",
   "metadata": {},
   "source": [
    "for a normal mxnet model, we start from here\n",
    "\n"
   ]
  },
  {
   "cell_type": "code",
   "execution_count": null,
   "metadata": {},
   "outputs": [],
   "source": [
    "mx_sym, args, auxs = mx.model.load_checkpoint('resnet18_v1', 0)\n",
    "# now we use the same API to get NNVM compatible symbol\n",
    "nnvm_sym, nnvm_params = nnvm.frontend.from_mxnet(mx_sym, args, auxs)\n",
    "# repeat the same steps to run this model using TVM"
   ]
  },
  {
   "cell_type": "markdown",
   "metadata": {},
   "source": [
    "Next: [deploy a model on rasp](https://docs.tvm.ai/tutorials/nnvm/deploy_model_on_rasp.html)"
   ]
  },
  {
   "cell_type": "code",
   "execution_count": null,
   "metadata": {},
   "outputs": [],
   "source": []
  }
 ],
 "metadata": {
  "kernelspec": {
   "display_name": "Python 3",
   "language": "python",
   "name": "python3"
  },
  "language_info": {
   "codemirror_mode": {
    "name": "ipython",
    "version": 3
   },
   "file_extension": ".py",
   "mimetype": "text/x-python",
   "name": "python",
   "nbconvert_exporter": "python",
   "pygments_lexer": "ipython3",
   "version": "3.6.8"
  }
 },
 "nbformat": 4,
 "nbformat_minor": 1
}
